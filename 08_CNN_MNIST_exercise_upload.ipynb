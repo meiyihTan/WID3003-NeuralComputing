{
  "nbformat": 4,
  "nbformat_minor": 0,
  "metadata": {
    "colab": {
      "name": "08_CNN_MNIST_exercise_upload.ipynb",
      "provenance": [],
      "collapsed_sections": [],
      "authorship_tag": "ABX9TyNLef9reIFG8Z1CQP5kqmGN"
    },
    "kernelspec": {
      "name": "python3",
      "display_name": "Python 3"
    },
    "language_info": {
      "name": "python"
    }
  },
  "cells": [
    {
      "cell_type": "markdown",
      "metadata": {
        "id": "Dmavtsm4EZER"
      },
      "source": [
        "#Convolutional Neural Network (CNN)\n",
        "\n",
        "The CNN design that we are going to implement is pretty basic with only one convolutional layer as follows.\n",
        "\n",
        "\n",
        "* Convolutional layer with 32 filters of size 5x5 with stride=1 and padding = 0 and ReLU activation\n",
        "* Pooling layer taking the max over 2x2 patches\n",
        "* Dropout layer with probability = 0.2\n",
        "* Fully connected layer of 128 neurons and ReLU activation\n",
        "* Output layer of 10 neurons\n"
      ]
    },
    {
      "cell_type": "markdown",
      "metadata": {
        "id": "SrvnFob00q6g"
      },
      "source": [
        "#Import what is needed"
      ]
    },
    {
      "cell_type": "code",
      "metadata": {
        "id": "X6na6nW1xBHt"
      },
      "source": [
        "import torch\n",
        "import torchvision.transforms as transform\n",
        "import torch.nn.functional as F\n",
        "from torch import nn\n",
        "from torch import optim\n",
        "from torch.utils.data import DataLoader\n",
        "from torchvision.datasets import MNIST\n",
        "from torchvision import datasets\n",
        "\n",
        "seed = 7\n",
        "torch.manual_seed(seed)\n",
        "torch.backends.cudnn.deterministic=True\n",
        "\n"
      ],
      "execution_count": 19,
      "outputs": []
    },
    {
      "cell_type": "markdown",
      "metadata": {
        "id": "sWtUmEZ21gNn"
      },
      "source": [
        "#Download data, transform and set DataLoaders"
      ]
    },
    {
      "cell_type": "code",
      "metadata": {
        "id": "y38vHiVX1nXc"
      },
      "source": [
        "transformCustom = transform.Compose([\n",
        "      transform.ToTensor()\n",
        "    ]) #Q: why we don't need to flatten the images into a vector here unlike MLP ?\n",
        "\n",
        "train = MNIST(root=\".\",train=True, download=True, transform=transformCustom)\n",
        "test = MNIST(root=\".\", train=False, download=True, transform=transformCustom)\n",
        "\n",
        "train_loader = DataLoader(train, batch_size=128, shuffle=True)\n",
        "test_loader = DataLoader(test, batch_size=128, shuffle=True)"
      ],
      "execution_count": 20,
      "outputs": []
    },
    {
      "cell_type": "markdown",
      "metadata": {
        "id": "AxTliIQL3jfe"
      },
      "source": [
        "#Define the CNN model "
      ]
    },
    {
      "cell_type": "code",
      "metadata": {
        "id": "FtfflF80KrSG"
      },
      "source": [
        "class CNN(nn.Module):\n",
        "  def __init__(self):\n",
        "    super(CNN,self).__init__()\n",
        "    self.conv1 = nn.Conv2d(in_channels=1,out_channels=32,kernel_size=(5,5),padding=0) #find out what is conv1d, conv2d, conv3d\n",
        "    self.fullyConnected1 = nn.Linear(in_features=32*12*12, out_features=128)\n",
        "    self.fullyConnected2 = nn.Linear(in_features=128, out_features=10)\n",
        "\n",
        "  def forward(self,x):\n",
        "    out = self.conv1(x)\n",
        "    out = F.relu(out)\n",
        "    out = F.max_pool2d(out,(2,2))  \n",
        "    out = F.dropout(out,0.2)\n",
        "    out = out.view(out.shape[0],-1) \n",
        "    out = self.fullyConnected1(out)\n",
        "    out = F.relu(out)\n",
        "    out = self.fullyConnected2(out) \n",
        "    return out\n",
        "\n",
        "#Implement CNN using nn.Sequential \n",
        "class CNN_seq(nn.Module):\n",
        "  def __init__(self):\n",
        "    super(CNN_seq,self).__init__()\n",
        "    self.conv1 = nn.Sequential(\n",
        "    nn.Conv2d(in_channels=1,out_channels=32,kernel_size=(5,5),padding=0),\n",
        "    nn.ReLU(),\n",
        "    nn.MaxPool2d(kernel_size=2),\n",
        "    nn.Dropout(0.2))\n",
        "\n",
        "\n",
        "    self.conv2 = nn.Sequential()\n",
        "\n",
        "    self.fullyConnected1 = nn.Linear(in_features=32*12*12, out_features=128)\n",
        "    self.fullyConnected2 = nn.Linear(in_features=128, out_features=10)\n",
        "\n",
        "  def forward(self,x):\n",
        "    out = self.conv1(x)\n",
        "    out = out.view(out.shape[0],-1) \n",
        "\n",
        "    out = self.fullyConnected1(out)\n",
        "    out = F.relu(out)\n",
        "    out = self.fullyConnected2(out)\n",
        "\n",
        "    return out"
      ],
      "execution_count": 21,
      "outputs": []
    },
    {
      "cell_type": "markdown",
      "metadata": {
        "id": "c3YxI9MnYRhs"
      },
      "source": [
        "#Train and learn\n",
        "\n",
        "During training\n",
        "  * Pass the output of CNN as raw logits(linear function)\n",
        "  * Calculate cross entropy (grd truth vs predicted output). Here softmax\n",
        "and cross entropy is computed\n",
        "  * Back propagate cross entropy loss\n",
        "  * Update the weights accordingly\n",
        "\n"
      ]
    },
    {
      "cell_type": "code",
      "metadata": {
        "id": "gkTykw0kYU-V",
        "colab": {
          "base_uri": "https://localhost:8080/"
        },
        "outputId": "6f6ded8b-32db-406a-bfc4-bf9feef939a3"
      },
      "source": [
        "model=CNN()\n",
        "#model=CNN_seq()\n",
        "\n",
        "\n",
        "#Set loss and optimiser \n",
        "loss_fn = nn.CrossEntropyLoss()\n",
        "\n",
        "optimiser = optim.Adam(model.parameters())\n",
        "\n",
        "\n",
        "model.train()\n",
        "epochSize=5\n",
        "for epoch in range(epochSize):\n",
        "  \n",
        "  for batch_id, (input,target) in enumerate(train_loader):\n",
        "\n",
        "    optimiser.zero_grad() \n",
        "    output = model(input) #forward \n",
        " \n",
        "    loss = loss_fn(output,target)\n",
        "    \n",
        "    \n",
        "    loss.backward() #back prop\n",
        "    optimiser.step()#update weights\n",
        "\n",
        "    if batch_id%100==0:\n",
        "      print(f'Epoch:{epoch}/{epochSize} Batch:{batch_id+1} Loss:{loss.item()}')\n",
        "\n",
        "    \n",
        "\n",
        "\n"
      ],
      "execution_count": 22,
      "outputs": [
        {
          "output_type": "stream",
          "text": [
            "Epoch:0/5 Batch:1 Loss:2.2992801666259766\n",
            "Epoch:0/5 Batch:101 Loss:0.32525306940078735\n",
            "Epoch:0/5 Batch:201 Loss:0.2901872396469116\n",
            "Epoch:0/5 Batch:301 Loss:0.10267605632543564\n",
            "Epoch:0/5 Batch:401 Loss:0.10840160399675369\n",
            "Epoch:1/5 Batch:1 Loss:0.07736755162477493\n",
            "Epoch:1/5 Batch:101 Loss:0.03943421319127083\n",
            "Epoch:1/5 Batch:201 Loss:0.1366945207118988\n",
            "Epoch:1/5 Batch:301 Loss:0.10726448148488998\n",
            "Epoch:1/5 Batch:401 Loss:0.031344179064035416\n",
            "Epoch:2/5 Batch:1 Loss:0.0628729984164238\n",
            "Epoch:2/5 Batch:101 Loss:0.03155883401632309\n",
            "Epoch:2/5 Batch:201 Loss:0.04076959937810898\n",
            "Epoch:2/5 Batch:301 Loss:0.1718994677066803\n",
            "Epoch:2/5 Batch:401 Loss:0.09558525681495667\n",
            "Epoch:3/5 Batch:1 Loss:0.02815227210521698\n",
            "Epoch:3/5 Batch:101 Loss:0.018841179087758064\n",
            "Epoch:3/5 Batch:201 Loss:0.01652820035815239\n",
            "Epoch:3/5 Batch:301 Loss:0.05310704559087753\n",
            "Epoch:3/5 Batch:401 Loss:0.053767330944538116\n",
            "Epoch:4/5 Batch:1 Loss:0.011416777968406677\n",
            "Epoch:4/5 Batch:101 Loss:0.07784360647201538\n",
            "Epoch:4/5 Batch:201 Loss:0.014838646166026592\n",
            "Epoch:4/5 Batch:301 Loss:0.025325478985905647\n",
            "Epoch:4/5 Batch:401 Loss:0.012730877846479416\n"
          ],
          "name": "stdout"
        }
      ]
    },
    {
      "cell_type": "markdown",
      "metadata": {
        "id": "p_xVLnn8Mzrt"
      },
      "source": [
        "\n",
        "![image.png](data:image/png;base64,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)\n"
      ]
    },
    {
      "cell_type": "markdown",
      "metadata": {
        "id": "qXEzm0NsHEOv"
      },
      "source": [
        "#Evaluation of model against training and test dataset"
      ]
    },
    {
      "cell_type": "markdown",
      "metadata": {
        "id": "KGelL6xA4Xkk"
      },
      "source": [
        "#Evaluate on training set\n",
        "\n",
        "60000 samples \n",
        "\n",
        "correctly predicted: 59513\n",
        "\n",
        "accuracy: 0.9918833374977112\n"
      ]
    },
    {
      "cell_type": "code",
      "metadata": {
        "id": "XPedFSfwPJNR"
      },
      "source": [
        "#Your implementation here"
      ],
      "execution_count": null,
      "outputs": []
    },
    {
      "cell_type": "markdown",
      "metadata": {
        "id": "N4n72QSzc-qf"
      },
      "source": [
        "#Evaluate on test set\n",
        "10000 samples\n",
        "\n",
        "correctly predicted: 9870\n",
        "\n",
        "accuracy: 0.9869999885559082"
      ]
    },
    {
      "cell_type": "code",
      "metadata": {
        "id": "eTpct-lYPNOC"
      },
      "source": [
        "#Your implementation here"
      ],
      "execution_count": null,
      "outputs": []
    }
  ]
}